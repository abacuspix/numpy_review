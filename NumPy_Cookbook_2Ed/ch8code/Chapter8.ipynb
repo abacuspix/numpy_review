{
 "cells": [
  {
   "cell_type": "code",
   "execution_count": 3,
   "metadata": {},
   "outputs": [
    {
     "name": "stdout",
     "output_type": "stream",
     "text": [
      "**********************************************************************\n",
      "File \"__main__\", line 11, in __main__.factorial\n",
      "Failed example:\n",
      "    factorial(0)\n",
      "Exception raised:\n",
      "    Traceback (most recent call last):\n",
      "      File \"/opt/homebrew/anaconda3/lib/python3.11/doctest.py\", line 1353, in __run\n",
      "        exec(compile(example.source, filename, \"single\",\n",
      "      File \"<doctest __main__.factorial[1]>\", line 1, in <module>\n",
      "        factorial(0)\n",
      "      File \"/var/folders/dv/3stz4zmn5jn1dhpcpw10k25h0000gp/T/ipykernel_47678/86129137.py\", line 14, in factorial\n",
      "        return np.arange(1, n+1).cumprod()[-1]\n",
      "               ~~~~~~~~~~~~~~~~~~~~~~~~~~~^^^^\n",
      "    IndexError: index -1 is out of bounds for axis 0 with size 0\n",
      "**********************************************************************\n",
      "1 items had failures:\n",
      "   1 of   2 in __main__.factorial\n",
      "***Test Failed*** 1 failures.\n"
     ]
    },
    {
     "data": {
      "text/plain": [
       "TestResults(failed=1, attempted=2)"
      ]
     },
     "execution_count": 3,
     "metadata": {},
     "output_type": "execute_result"
    }
   ],
   "source": [
    "import numpy as np\n",
    "import doctest\n",
    "\n",
    "def factorial(n):\n",
    "   \"\"\"\n",
    "   Test for the factorial of 3 that should pass.\n",
    "   >>> factorial(3)\n",
    "   6\n",
    "\n",
    "   Test for the factorial of 0 that should fail.\n",
    "   >>> factorial(0)\n",
    "   1\n",
    "   \"\"\"\n",
    "   return np.arange(1, n+1).cumprod()[-1]\n",
    "\n",
    "doctest.testmod()\n"
   ]
  },
  {
   "cell_type": "code",
   "execution_count": 9,
   "metadata": {},
   "outputs": [
    {
     "name": "stderr",
     "output_type": "stream",
     "text": [
      "..\n",
      "----------------------------------------------------------------------\n",
      "Ran 2 tests in 0.004s\n",
      "\n",
      "OK\n"
     ]
    },
    {
     "name": "stdout",
     "output_type": "stream",
     "text": [
      "Working\n",
      "unmocked\n"
     ]
    },
    {
     "data": {
      "text/plain": [
       "<unittest.runner.TextTestResult run=2 errors=0 failures=0>"
      ]
     },
     "execution_count": 9,
     "metadata": {},
     "output_type": "execute_result"
    }
   ],
   "source": [
    "from unittest.mock import MagicMock\n",
    "import numpy as np\n",
    "import unittest\n",
    "\n",
    "class NuclearReactor:\n",
    "    def __init__(self, n):\n",
    "        self.n = n\n",
    "\n",
    "    def do_work(self, msg):\n",
    "        print(\"Working\")\n",
    "        return self.factorial(self.n, msg)\n",
    "\n",
    "    def factorial(self, n, msg):\n",
    "        print(msg)\n",
    "        if n == 0:\n",
    "            return 1\n",
    "        if n < 0:\n",
    "            raise ValueError(\"Core meltdown\")\n",
    "        return np.arange(1, n+1).cumprod()[-1]\n",
    "\n",
    "class NuclearReactorTest(unittest.TestCase):\n",
    "    def test_called(self):\n",
    "        reactor = NuclearReactor(3)\n",
    "        reactor.factorial = MagicMock(return_value=6)\n",
    "        result = reactor.do_work(\"mocked\")\n",
    "        self.assertEqual(6, result)\n",
    "        reactor.factorial.assert_called_with(3, \"mocked\")\n",
    "\n",
    "    def test_unmocked(self):\n",
    "        reactor = NuclearReactor(-1)\n",
    "        with self.assertRaises(ValueError):\n",
    "            reactor.factorial(-1, \"unmocked\")\n",
    "\n",
    "# Run the tests\n",
    "unittest.TextTestRunner().run(unittest.TestLoader().loadTestsFromTestCase(NuclearReactorTest))"
   ]
  },
  {
   "cell_type": "code",
   "execution_count": 11,
   "metadata": {},
   "outputs": [
    {
     "name": "stderr",
     "output_type": "stream",
     "text": [
      "...\n",
      "----------------------------------------------------------------------\n",
      "Ran 3 tests in 0.019s\n",
      "\n",
      "OK\n"
     ]
    },
    {
     "data": {
      "text/plain": [
       "<unittest.runner.TextTestResult run=3 errors=0 failures=0>"
      ]
     },
     "execution_count": 11,
     "metadata": {},
     "output_type": "execute_result"
    }
   ],
   "source": [
    "import numpy as np\n",
    "import unittest\n",
    "\n",
    "def factorial(n):\n",
    "    if n == 0:\n",
    "        return np.array([1])\n",
    "\n",
    "    if n < 0:\n",
    "        raise ValueError(\"Don't be so negative\")\n",
    "\n",
    "    return np.arange(1, n+1).cumprod()\n",
    "\n",
    "class FactorialTest(unittest.TestCase):\n",
    "    def test_factorial(self):\n",
    "        # Test for the factorial of 3 that should pass.\n",
    "        self.assertEqual(6, factorial(3)[-1])\n",
    "        np.testing.assert_equal(np.array([1, 2, 6]), factorial(3))\n",
    "\n",
    "    def test_zero(self):\n",
    "        # Test for the factorial of 0 that should pass.\n",
    "        self.assertEqual(1, factorial(0)[-1])\n",
    "\n",
    "    def test_negative(self):\n",
    "        # Test for the factorial of negative numbers that should fail.\n",
    "        self.assertRaises(ValueError, factorial, -10)\n",
    "\n",
    "# Run the tests\n",
    "unittest.TextTestRunner().run(unittest.TestLoader().loadTestsFromTestCase(FactorialTest))\n"
   ]
  },
  {
   "cell_type": "code",
   "execution_count": null,
   "metadata": {},
   "outputs": [],
   "source": []
  }
 ],
 "metadata": {
  "kernelspec": {
   "display_name": "Python 3 (ipykernel)",
   "language": "python",
   "name": "python3"
  },
  "language_info": {
   "codemirror_mode": {
    "name": "ipython",
    "version": 3
   },
   "file_extension": ".py",
   "mimetype": "text/x-python",
   "name": "python",
   "nbconvert_exporter": "python",
   "pygments_lexer": "ipython3",
   "version": "3.11.7"
  }
 },
 "nbformat": 4,
 "nbformat_minor": 4
}
