{
 "cells": [
  {
   "cell_type": "code",
   "execution_count": 1,
   "metadata": {},
   "outputs": [
    {
     "ename": "IndexError",
     "evalue": "index 8 is out of bounds for axis 0 with size 7",
     "output_type": "error",
     "traceback": [
      "\u001b[0;31m---------------------------------------------------------------------------\u001b[0m",
      "\u001b[0;31mIndexError\u001b[0m                                Traceback (most recent call last)",
      "Cell \u001b[0;32mIn[1], line 4\u001b[0m\n\u001b[1;32m      1\u001b[0m \u001b[38;5;28;01mimport\u001b[39;00m \u001b[38;5;21;01mnumpy\u001b[39;00m \u001b[38;5;28;01mas\u001b[39;00m \u001b[38;5;21;01mnp\u001b[39;00m\n\u001b[1;32m      3\u001b[0m a \u001b[38;5;241m=\u001b[39m np\u001b[38;5;241m.\u001b[39marange(\u001b[38;5;241m7\u001b[39m)\n\u001b[0;32m----> 4\u001b[0m \u001b[38;5;28mprint\u001b[39m(a[\u001b[38;5;241m8\u001b[39m])\n",
      "\u001b[0;31mIndexError\u001b[0m: index 8 is out of bounds for axis 0 with size 7"
     ]
    }
   ],
   "source": [
    "import numpy as np\n",
    "\n",
    "a = np.arange(7)\n",
    "print(a[8])\n"
   ]
  },
  {
   "cell_type": "code",
   "execution_count": 3,
   "metadata": {},
   "outputs": [
    {
     "name": "stdout",
     "output_type": "stream",
     "text": [
      "         5 function calls in 0.011 seconds\n",
      "\n",
      "   Ordered by: standard name\n",
      "\n",
      "   ncalls  tottime  percall  cumtime  percall filename:lineno(function)\n",
      "        1    0.000    0.000    0.010    0.010 1816923066.py:4(transpose)\n",
      "        1    0.000    0.000    0.011    0.011 <string>:1(<module>)\n",
      "        1    0.000    0.000    0.011    0.011 {built-in method builtins.exec}\n",
      "        1    0.000    0.000    0.000    0.000 {method 'disable' of '_lsprof.Profiler' objects}\n",
      "        1    0.010    0.010    0.010    0.010 {method 'random' of 'numpy.random.mtrand.RandomState' objects}\n",
      "\n",
      "\n"
     ]
    }
   ],
   "source": [
    "import numpy as np\n",
    "import cProfile\n",
    "\n",
    "def transpose(n):\n",
    "   random_values = np.random.random((n, n))\n",
    "   return random_values.T\n",
    "\n",
    "cProfile.run('transpose(1000)')\n"
   ]
  },
  {
   "cell_type": "code",
   "execution_count": 5,
   "metadata": {},
   "outputs": [
    {
     "name": "stdout",
     "output_type": "stream",
     "text": [
      "         44 function calls in 0.001 seconds\n",
      "\n",
      "   Ordered by: standard name\n",
      "\n",
      "   ncalls  tottime  percall  cumtime  percall filename:lineno(function)\n",
      "        1    0.000    0.000    0.001    0.001 3683647684.py:4(search)\n",
      "        1    0.000    0.000    0.001    0.001 <string>:1(<module>)\n",
      "        1    0.000    0.000    0.000    0.000 fromnumeric.py:1328(_searchsorted_dispatcher)\n",
      "        1    0.000    0.000    0.000    0.000 fromnumeric.py:1332(searchsorted)\n",
      "        1    0.000    0.000    0.000    0.000 fromnumeric.py:2974(_prod_dispatcher)\n",
      "        1    0.000    0.000    0.000    0.000 fromnumeric.py:2979(prod)\n",
      "        1    0.000    0.000    0.000    0.000 fromnumeric.py:53(_wrapfunc)\n",
      "        1    0.000    0.000    0.000    0.000 fromnumeric.py:71(_wrapreduction)\n",
      "        1    0.000    0.000    0.000    0.000 fromnumeric.py:72(<dictcomp>)\n",
      "        1    0.000    0.000    0.000    0.000 iostream.py:137(_event_pipe)\n",
      "        1    0.000    0.000    0.000    0.000 iostream.py:258(schedule)\n",
      "        1    0.000    0.000    0.000    0.000 iostream.py:519(_is_master_process)\n",
      "        1    0.000    0.000    0.000    0.000 iostream.py:546(_schedule_flush)\n",
      "        1    0.000    0.000    0.000    0.000 iostream.py:624(write)\n",
      "        1    0.000    0.000    0.000    0.000 linecache.py:26(getline)\n",
      "        1    0.000    0.000    0.000    0.000 linecache.py:36(getlines)\n",
      "        1    0.000    0.000    0.000    0.000 socket.py:621(send)\n",
      "        1    0.000    0.000    0.000    0.000 threading.py:1125(_wait_for_tstate_lock)\n",
      "        1    0.000    0.000    0.000    0.000 threading.py:1192(is_alive)\n",
      "        1    0.000    0.000    0.000    0.000 threading.py:575(is_set)\n",
      "        1    0.000    0.000    0.000    0.000 warnings.py:117(_formatwarnmsg)\n",
      "        1    0.000    0.000    0.000    0.000 warnings.py:20(_showwarnmsg_impl)\n",
      "        1    0.000    0.000    0.000    0.000 warnings.py:35(_formatwarnmsg_impl)\n",
      "        1    0.000    0.000    0.000    0.000 warnings.py:403(__init__)\n",
      "        1    0.000    0.000    0.000    0.000 warnings.py:96(_showwarnmsg)\n",
      "        1    0.000    0.000    0.001    0.001 {built-in method builtins.exec}\n",
      "        2    0.000    0.000    0.000    0.000 {built-in method builtins.getattr}\n",
      "        1    0.000    0.000    0.000    0.000 {built-in method builtins.isinstance}\n",
      "        3    0.000    0.000    0.000    0.000 {built-in method builtins.len}\n",
      "        1    0.000    0.000    0.000    0.000 {built-in method numpy.arange}\n",
      "        1    0.000    0.000    0.000    0.000 {built-in method posix.getpid}\n",
      "        1    0.000    0.000    0.000    0.000 {method '__exit__' of '_thread.RLock' objects}\n",
      "        1    0.000    0.000    0.000    0.000 {method 'acquire' of '_thread.lock' objects}\n",
      "        1    0.000    0.000    0.000    0.000 {method 'append' of 'collections.deque' objects}\n",
      "        1    0.000    0.000    0.000    0.000 {method 'disable' of '_lsprof.Profiler' objects}\n",
      "        1    0.000    0.000    0.000    0.000 {method 'items' of 'dict' objects}\n",
      "        1    0.000    0.000    0.001    0.001 {method 'random_integers' of 'numpy.random.mtrand.RandomState' objects}\n",
      "        1    0.000    0.000    0.000    0.000 {method 'reduce' of 'numpy.ufunc' objects}\n",
      "        1    0.000    0.000    0.000    0.000 {method 'searchsorted' of 'numpy.ndarray' objects}\n",
      "        1    0.000    0.000    0.000    0.000 {method 'strip' of 'str' objects}\n",
      "        1    0.000    0.000    0.000    0.000 {method 'write' of '_io.StringIO' objects}\n",
      "\n",
      "\n"
     ]
    },
    {
     "name": "stderr",
     "output_type": "stream",
     "text": [
      "/var/folders/dv/3stz4zmn5jn1dhpcpw10k25h0000gp/T/ipykernel_47456/3683647684.py:5: DeprecationWarning: This function is deprecated. Please call randint(-4, 4 + 1) instead\n",
      "  random_values = numpy.random.random_integers(-2 * size, 2 * size, size)\n"
     ]
    }
   ],
   "source": [
    "import numpy\n",
    "import cProfile\n",
    "\n",
    "def search(size):\n",
    "   random_values = numpy.random.random_integers(-2 * size, 2 * size, size)\n",
    "   numpy.searchsorted(numpy.arange(size), random_values)\n",
    "\n",
    "cProfile.run('search(%d)' %(2))\n"
   ]
  },
  {
   "cell_type": "code",
   "execution_count": 13,
   "metadata": {},
   "outputs": [],
   "source": [
    "import numpy as np\n",
    "\n",
    "def invert(n):\n",
    "   a = np.matrix(np.random.rand(n, n))\n",
    "   return a.I\n",
    "\n",
    "sizes = 2 ** np.arange(0, 12)\n",
    "\n",
    "for n in sizes:\n",
    "   invert(n)\n"
   ]
  },
  {
   "cell_type": "code",
   "execution_count": 15,
   "metadata": {},
   "outputs": [],
   "source": [
    "import numpy\n",
    "\n",
    "def search(n):\n",
    "   a = numpy.arange(n)\n",
    "   numpy.searchsorted(a, 42)\n",
    "\n",
    "sizes = 2 ** numpy.arange(0, 22)\n",
    "\n",
    "for n in sizes:\n",
    "   search(n)\n"
   ]
  },
  {
   "cell_type": "code",
   "execution_count": 19,
   "metadata": {},
   "outputs": [
    {
     "name": "stdout",
     "output_type": "stream",
     "text": [
      "[ 3.11130670e-08 -7.18329481e-04]\n"
     ]
    },
    {
     "data": {
      "image/png": "[encoded data removed]",
      "text/plain": [
       "<Figure size 640x480 with 1 Axes>"
      ]
     },
     "metadata": {},
     "output_type": "display_data"
    }
   ],
   "source": [
    "import numpy as np\n",
    "import timeit\n",
    "import matplotlib.pyplot as plt\n",
    "\n",
    "# This program measures the performance of the NumPy sort function\n",
    "# and plots time vs array size.\n",
    "integers = []\n",
    "\n",
    "def dosort():\n",
    "    global integers\n",
    "    integers.sort()\n",
    "\n",
    "def measure():\n",
    "    timer = timeit.Timer('dosort()', globals=globals())\n",
    "    return timer.timeit(10 ** 2)\n",
    "\n",
    "powersOf2 = np.arange(0, 19)\n",
    "sizes = 2 ** powersOf2\n",
    "\n",
    "times = np.array([])\n",
    "\n",
    "for size in sizes:\n",
    "    integers = np.random.randint(1, 10 ** 6, size)\n",
    "    times = np.append(times, measure())\n",
    "\n",
    "fit = np.polyfit(sizes * powersOf2, times, 1)\n",
    "print(fit)\n",
    "plt.title(\"Sort array sizes vs execution times\")\n",
    "plt.xlabel(\"Size\")\n",
    "plt.ylabel(\"(s)\")\n",
    "plt.semilogx(sizes, times, 'ro')\n",
    "plt.semilogx(sizes, np.polyval(fit, sizes * powersOf2))\n",
    "plt.grid()\n",
    "plt.show()\n",
    "\n"
   ]
  },
  {
   "cell_type": "code",
   "execution_count": null,
   "metadata": {},
   "outputs": [],
   "source": []
  }
 ],
 "metadata": {
  "kernelspec": {
   "display_name": "Python 3 (ipykernel)",
   "language": "python",
   "name": "python3"
  },
  "language_info": {
   "codemirror_mode": {
    "name": "ipython",
    "version": 3
   },
   "file_extension": ".py",
   "mimetype": "text/x-python",
   "name": "python",
   "nbconvert_exporter": "python",
   "pygments_lexer": "ipython3",
   "version": "3.11.7"
  }
 },
 "nbformat": 4,
 "nbformat_minor": 4
}
