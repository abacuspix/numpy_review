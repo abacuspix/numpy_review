{
 "cells": [
  {
   "cell_type": "code",
   "execution_count": 1,
   "id": "7fe642d7-7d32-4a28-b119-cf124fa2a8e7",
   "metadata": {},
   "outputs": [
    {
     "name": "stdout",
     "output_type": "stream",
     "text": [
      "The last 2 elements of the sum [112896, 120050]\n",
      "PythonSum elapsed time in microseconds 11\n",
      "The last 2 elements of the sum [112896 120050]\n",
      "NumPySum elapsed time in microseconds 17\n"
     ]
    }
   ],
   "source": [
    "#!/usr/bin/env/python\n",
    "\n",
    "from datetime import datetime\n",
    "import numpy as np\n",
    "\n",
    "\"\"\"\n",
    " Chapter 1 of NumPy Beginners Guide.\n",
    " This program demonstrates vector addition the Python way.\n",
    " Run from the command line as follows\n",
    "     \n",
    "  python vectorsum.py n\n",
    " \n",
    " where n is an integer that specifies the size of the vectors.\n",
    "\n",
    " The first vector to be added contains the squares of 0 up to n. \n",
    " The second vector contains the cubes of 0 up to n.\n",
    " The program prints the last 2 elements of the sum and the elapsed time.\n",
    "\"\"\"\n",
    "\n",
    "def numpysum(n):\n",
    "    a = np.arange(n) ** 2\n",
    "    b = np.arange(n) ** 3\n",
    "    c = a + b\n",
    "    return c\n",
    "\n",
    "def pythonsum(n):\n",
    "    a = list(range(n))\n",
    "    b = list(range(n))\n",
    "    c = []\n",
    "\n",
    "    for i in range(len(a)):\n",
    "        a[i] = i ** 2\n",
    "        b[i] = i ** 3\n",
    "        c.append(a[i] + b[i])\n",
    "\n",
    "    return c\n",
    "\n",
    "if __name__ == \"__main__\":\n",
    "    size = 50\n",
    "\n",
    "    # Python Sum\n",
    "    start = datetime.now()\n",
    "    c = pythonsum(size)\n",
    "    delta = datetime.now() - start\n",
    "    print(\"The last 2 elements of the sum\", c[-2:])\n",
    "    print(\"PythonSum elapsed time in microseconds\", delta.microseconds)\n",
    "\n",
    "    # NumPy Sum\n",
    "    start = datetime.now()\n",
    "    c = numpysum(size)\n",
    "    delta = datetime.now() - start\n",
    "    print(\"The last 2 elements of the sum\", c[-2:])\n",
    "    print(\"NumPySum elapsed time in microseconds\", delta.microseconds)\n"
   ]
  }
 ],
 "metadata": {
  "kernelspec": {
   "display_name": "Python 3 (ipykernel)",
   "language": "python",
   "name": "python3"
  },
  "language_info": {
   "codemirror_mode": {
    "name": "ipython",
    "version": 3
   },
   "file_extension": ".py",
   "mimetype": "text/x-python",
   "name": "python",
   "nbconvert_exporter": "python",
   "pygments_lexer": "ipython3",
   "version": "3.11.7"
  }
 },
 "nbformat": 4,
 "nbformat_minor": 5
}
