{
 "cells": [
  {
   "cell_type": "code",
   "execution_count": null,
   "metadata": {},
   "outputs": [],
   "source": [
    "#!/usr/bin/env/python\n",
    "\n",
    "import sys\n",
    "from datetime import datetime\n",
    "import numpy\n",
    "\n",
    "\"\"\"\n",
    " Chapter 1 of NumPy Beginners Guide.\n",
    " This program demonstrates vector addition the Python way.\n",
    " Run from the command line as follows\n",
    "     \n",
    "  python vectorsum.py n\n",
    " \n",
    " where n is an integer that specifies the size of the vectors.\n",
    "\n",
    " The first vector to be added contains the squares of 0 up to n. \n",
    " The second vector contains the cubes of 0 up to n.\n",
    " The program prints the last 2 elements of the sum and the elapsed time.\n",
    "\"\"\"\n",
    "\n",
    "def numpysum(n):\n",
    "   a = numpy.arange(n) ** 2\n",
    "   b = numpy.arange(n) ** 3\n",
    "   c = a + b\n",
    "\n",
    "   return c\n",
    "\n",
    "def pythonsum(n):\n",
    "   a = range(n)\n",
    "   b = range(n)\n",
    "   c = []\n",
    "\n",
    "   for i in range(len(a)):\n",
    "       a[i] = i ** 2\n",
    "       b[i] = i ** 3\n",
    "       c.append(a[i] + b[i])\n",
    "\n",
    "   return c\n",
    "   \n",
    "\n",
    "size = int(sys.argv[1])\n",
    "\n",
    "start = datetime.now()\n",
    "c = pythonsum(size)\n",
    "delta = datetime.now() - start\n",
    "print \"The last 2 elements of the sum\", c[-2:]\n",
    "print \"PythonSum elapsed time in microseconds\", delta.microseconds\n",
    "\n",
    "start = datetime.now()\n",
    "c = numpysum(size)\n",
    "delta = datetime.now() - start\n",
    "print \"The last 2 elements of the sum\", c[-2:]\n",
    "print \"NumPySum elapsed time in microseconds\", delta.microseconds"
   ]
  }
 ],
 "metadata": {
  "kernelspec": {
   "display_name": "Python 2",
   "language": "python",
   "name": "python2"
  },
  "language_info": {
   "codemirror_mode": {
    "name": "ipython",
    "version": 2
   },
   "file_extension": ".py",
   "mimetype": "text/x-python",
   "name": "python",
   "nbconvert_exporter": "python",
   "pygments_lexer": "ipython2",
   "version": "2.7.16"
  }
 },
 "nbformat": 4,
 "nbformat_minor": 1
}
