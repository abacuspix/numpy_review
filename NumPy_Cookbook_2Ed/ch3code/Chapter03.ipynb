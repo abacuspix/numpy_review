{
 "cells": [
  {
   "cell_type": "code",
   "execution_count": 17,
   "metadata": {},
   "outputs": [
    {
     "name": "stdout",
     "output_type": "stream",
     "text": [
      "10001 104729\n"
     ]
    }
   ],
   "source": [
    "from __future__ import print_function\n",
    "import numpy as np\n",
    "\n",
    "LIM = 10 ** 6\n",
    "N = 10 ** 9\n",
    "P = 10001\n",
    "primes = [2]\n",
    "p = 2\n",
    "\n",
    "# By listing the first six prime numbers: 2, 3, 5, 7, 11, and 13, we can see that the 6th prime is 13.\n",
    "# What is the 10,001st prime number?\n",
    "\n",
    "def sieve_primes(a, p):\n",
    "    # Sieve out multiples of p\n",
    "    a = a[a % p != 0]\n",
    "    return a\n",
    "\n",
    "for i in range(3, N, LIM):\n",
    "    # Create a list of consecutive integers\n",
    "    a = np.arange(i, i + LIM, 2)\n",
    "\n",
    "    while len(primes) < P and len(a) > 0:\n",
    "        a = sieve_primes(a, p)\n",
    "        primes.append(p)\n",
    "\n",
    "        if len(a) > 0:\n",
    "            p = a[0]\n",
    "\n",
    "print(len(primes), primes[P-1])\n",
    "\n"
   ]
  },
  {
   "cell_type": "code",
   "execution_count": 19,
   "metadata": {},
   "outputs": [
    {
     "name": "stdout",
     "output_type": "stream",
     "text": [
      "1234169 486847\n",
      "1471 839\n",
      "6857 71\n"
     ]
    }
   ],
   "source": [
    "from __future__ import print_function\n",
    "import numpy as np\n",
    "\n",
    "#The prime factors of 13195 are 5, 7, 13 and 29.\n",
    "\n",
    "#What is the largest prime factor of the number 600851475143 ?\n",
    "\n",
    "\n",
    "N = 600851475143\n",
    "LIM = 10 ** 6\n",
    "\n",
    "def factor(n):\n",
    "   #1. Create array of trial values\n",
    "   a = np.ceil(np.sqrt(n))\n",
    "   lim = min(n, LIM)\n",
    "   a = np.arange(a, a + lim)\n",
    "   b2 = a ** 2 - n\n",
    "\n",
    "   #2. Check whether b is a square\n",
    "   fractions = np.modf(np.sqrt(b2))[0]\n",
    "\n",
    "   #3. Find 0 fractions\n",
    "   indices = np.where(fractions == 0)\n",
    "\n",
    "   #4. Find the first occurrence of a 0 fraction\n",
    "   a = np.ravel(np.take(a, indices))[0]\n",
    "   # Or a = a[indices][0]\n",
    "\n",
    "   a = int(a)\n",
    "   b = np.sqrt(a ** 2 - n) \n",
    "   b = int(b)\n",
    "   c = a + b\n",
    "   d = a - b\n",
    "\n",
    "   if c == 1 or d == 1:\n",
    "      return\n",
    "\n",
    "   print(c, d)\n",
    "   factor(c)\n",
    "   factor(d)\n",
    "\n",
    "factor(N)\n",
    "#1234169 486847\n",
    "#1471 839\n",
    "#6857 71\n"
   ]
  },
  {
   "cell_type": "code",
   "execution_count": 9,
   "metadata": {},
   "outputs": [
    {
     "name": "stdout",
     "output_type": "stream",
     "text": [
      "906609\n"
     ]
    }
   ],
   "source": [
    "import numpy as np\n",
    "\n",
    "#A palindromic number reads the same both ways. \n",
    "#The largest palindrome made from the product of two 2-digit numbers is 9009 = 91 x 99.\n",
    "\n",
    "#Find the largest palindrome made from the product of two 3-digit numbers.\n",
    "\n",
    "\n",
    "#1. Create  3-digits numbers array\n",
    "a = np.arange(100, 1000)\n",
    "np.testing.assert_equal(100, a[0])\n",
    "np.testing.assert_equal(999, a[-1])\n",
    "\n",
    "#2. Create products array\n",
    "numbers = np.outer(a, a)\n",
    "numbers = np.ravel(numbers)\n",
    "numbers.sort()\n",
    "np.testing.assert_equal(810000, len(numbers))\n",
    "np.testing.assert_equal(10000, numbers[0])\n",
    "np.testing.assert_equal(998001, numbers[-1])\n",
    "\n",
    "#3. Find largest palindromic number\n",
    "for number in numbers[::-1]:\n",
    "   s = str(number)\n",
    "\n",
    "   if s == s[::-1]:\n",
    "      print(s)\n",
    "      break\n"
   ]
  },
  {
   "cell_type": "code",
   "execution_count": 21,
   "metadata": {},
   "outputs": [
    {
     "name": "stderr",
     "output_type": "stream",
     "text": [
      "[*********************100%%**********************]  1 of 1 completed"
     ]
    },
    {
     "name": "stdout",
     "output_type": "stream",
     "text": [
      "[181.99000549 182.91000366 177.55999756 185.63999939 171.36999512]\n",
      "[188.63000488 175.03999329 183.38000488 207.1499939  213.07000732]\n",
      "5 5\n",
      "67.80000305175781\n"
     ]
    },
    {
     "name": "stderr",
     "output_type": "stream",
     "text": [
      "\n"
     ]
    },
    {
     "data": {
      "image/png": "[encoded data removed]",
      "text/plain": [
       "<Figure size 640x480 with 1 Axes>"
      ]
     },
     "metadata": {},
     "output_type": "display_data"
    }
   ],
   "source": [
    "from __future__ import print_function\n",
    "import yfinance as yf\n",
    "from datetime import date, timedelta\n",
    "import numpy as np\n",
    "import scipy.stats\n",
    "import matplotlib.pyplot as plt\n",
    "\n",
    "# 1. Get close prices.\n",
    "today = date.today()\n",
    "start = today - timedelta(days=365)\n",
    "\n",
    "# Fetch data from Yahoo Finance using yfinance\n",
    "data = yf.download('AAPL', start=start, end=today)\n",
    "close = data['Close'].values\n",
    "\n",
    "# 2. Get log returns.\n",
    "logreturns = np.diff(np.log(close))\n",
    "\n",
    "# 3. Calculate breakout and pullback\n",
    "freq = 0.02\n",
    "breakout = scipy.stats.scoreatpercentile(logreturns, 100 * (1 - freq))\n",
    "pullback = scipy.stats.scoreatpercentile(logreturns, 100 * freq)\n",
    "\n",
    "# 4. Generate buys and sells\n",
    "buys = np.compress(logreturns < pullback, close[1:])\n",
    "sells = np.compress(logreturns > breakout, close[1:])\n",
    "print(buys)\n",
    "print(sells)\n",
    "print(len(buys), len(sells))\n",
    "print(sells.sum() - buys.sum())\n",
    "\n",
    "# 5. Plot a histogram of the log returns\n",
    "plt.title('Periodic Trading')\n",
    "plt.hist(logreturns, bins=50, edgecolor='k')\n",
    "plt.grid()\n",
    "plt.xlabel('Log Returns')\n",
    "plt.ylabel('Counts')\n",
    "plt.show()\n"
   ]
  },
  {
   "cell_type": "code",
   "execution_count": 23,
   "metadata": {},
   "outputs": [
    {
     "name": "stderr",
     "output_type": "stream",
     "text": [
      "[*********************100%%**********************]  1 of 1 completed\n",
      "/var/folders/dv/3stz4zmn5jn1dhpcpw10k25h0000gp/T/ipykernel_43357/3364200042.py:24: RuntimeWarning: divide by zero encountered in divide\n",
      "  freqs = 1.0 / counts\n"
     ]
    },
    {
     "data": {
      "image/png": "[encoded data removed]",
      "text/plain": [
       "<Figure size 640x480 with 1 Axes>"
      ]
     },
     "metadata": {},
     "output_type": "display_data"
    }
   ],
   "source": [
    "import yfinance as yf\n",
    "from datetime import date, timedelta\n",
    "import numpy as np\n",
    "import matplotlib.pyplot as plt\n",
    "\n",
    "# 1. Get close prices.\n",
    "today = date.today()\n",
    "start = today - timedelta(days=365)\n",
    "\n",
    "# Fetch data from Yahoo Finance using yfinance\n",
    "data = yf.download('IBM', start=start, end=today)\n",
    "close = data['Close'].values\n",
    "\n",
    "# 2. Get positive log returns.\n",
    "logreturns = np.diff(np.log(close))\n",
    "pos = logreturns[logreturns > 0]\n",
    "\n",
    "# 3. Get frequencies of returns.\n",
    "counts, rets = np.histogram(pos)\n",
    "# 0 counts indices\n",
    "indices0 = np.where(counts != 0)\n",
    "rets = rets[:-1] + (rets[1] - rets[0]) / 2\n",
    "# Could generate divide by 0 warning\n",
    "freqs = 1.0 / counts\n",
    "freqs = np.take(freqs, indices0)[0]\n",
    "rets = np.take(rets, indices0)[0]\n",
    "freqs = np.log(freqs)\n",
    "\n",
    "# 4. Fit the frequencies and returns to a line.\n",
    "p = np.polyfit(rets, freqs, 1)\n",
    "\n",
    "# 5. Plot the results.\n",
    "plt.title('Power Law')\n",
    "plt.plot(rets, freqs, 'o', label='Data')\n",
    "plt.plot(rets, p[0] * rets + p[1], label='Fit')\n",
    "plt.xlabel('Log Returns')\n",
    "plt.ylabel('Log Frequencies')\n",
    "plt.legend()\n",
    "plt.grid()\n",
    "plt.show()\n"
   ]
  }
 ],
 "metadata": {
  "kernelspec": {
   "display_name": "Python 3 (ipykernel)",
   "language": "python",
   "name": "python3"
  },
  "language_info": {
   "codemirror_mode": {
    "name": "ipython",
    "version": 3
   },
   "file_extension": ".py",
   "mimetype": "text/x-python",
   "name": "python",
   "nbconvert_exporter": "python",
   "pygments_lexer": "ipython3",
   "version": "3.11.7"
  }
 },
 "nbformat": 4,
 "nbformat_minor": 4
}
