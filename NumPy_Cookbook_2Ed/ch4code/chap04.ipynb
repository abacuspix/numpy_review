{
 "cells": [
  {
   "cell_type": "code",
   "execution_count": 5,
   "metadata": {},
   "outputs": [
    {
     "name": "stdout",
     "output_type": "stream",
     "text": [
      "Keys dict_keys(['version', 'data', 'shape', 'typestr'])\n",
      "Shape (768, 1024, 4)\n",
      "Typestr |u1\n",
      "Shape (768, 1024, 4)\n",
      "Data type uint8\n"
     ]
    }
   ],
   "source": [
    "from __future__ import print_function\n",
    "import numpy as np\n",
    "from PIL import Image\n",
    "import scipy.datasets\n",
    "\n",
    "# Load the example image using scipy.datasets\n",
    "lena = scipy.datasets.face()\n",
    "# Create an array with four channels (RGBA)\n",
    "data = np.zeros((lena.shape[0], lena.shape[1], 4), dtype=np.uint8)\n",
    "\n",
    "# Assign RGB channels\n",
    "data[:, :, :3] = lena\n",
    "# Assign alpha channel\n",
    "data[:, :, 3] = 255  # Set alpha to 255 (fully opaque)\n",
    "\n",
    "# Create an image from the RGBA data\n",
    "img = Image.fromarray(data, 'RGBA')\n",
    "\n",
    "array_interface = img.__array_interface__\n",
    "print(\"Keys\", array_interface.keys())\n",
    "print(\"Shape\", array_interface['shape'])\n",
    "print(\"Typestr\", array_interface['typestr'])\n",
    "\n",
    "numpy_array = np.asarray(img)\n",
    "print(\"Shape\", numpy_array.shape)\n",
    "print(\"Data type\", numpy_array.dtype)\n"
   ]
  },
  {
   "cell_type": "code",
   "execution_count": null,
   "metadata": {},
   "outputs": [],
   "source": [
    "from __future__ import print_function\n",
    "import requests\n",
    "import re\n",
    "import time\n",
    "import numpy as np\n",
    "\n",
    "# Function to fetch the stock price\n",
    "def fetch_stock_price(symbol):\n",
    "    url = f'https://www.alphavantage.co/query?function=TIME_SERIES_INTRADAY&symbol={symbol}&interval=1min&apikey=YOUR_API_KEY'\n",
    "    response = requests.get(url)\n",
    "    data = response.json()\n",
    "    last_refreshed = data['Meta Data']['3. Last Refreshed']\n",
    "    price = float(data['Time Series (1min)'][last_refreshed]['4. close'])\n",
    "    return price\n",
    "\n",
    "# Replace 'YOUR_API_KEY' with your actual Alpha Vantage API key.\n",
    "API_KEY = 'YOUR_API_KEY'\n",
    "symbol = 'NVDA'\n",
    "\n",
    "prices = np.array([])\n",
    "\n",
    "for i in range(3):\n",
    "    price = fetch_stock_price(symbol)\n",
    "    prices = np.append(prices, price)\n",
    "    avg = prices.mean()\n",
    "    stddev = prices.std()\n",
    "\n",
    "    devFactor = 1\n",
    "    bottom = avg - devFactor * stddev\n",
    "    top = avg + devFactor * stddev\n",
    "    timestr = time.strftime(\"%H:%M:%S\", time.localtime())\n",
    "\n",
    "    print(timestr, \"Average\", avg, \"-Std\", bottom, \"+Std\", top)\n",
    "    time.sleep(60)\n"
   ]
  },
  {
   "cell_type": "code",
   "execution_count": 10,
   "metadata": {},
   "outputs": [],
   "source": [
    "import numpy as np\n",
    "from PIL import Image\n",
    "import scipy.datasets\n",
    "\n",
    "# Load the Lena image from scipy.datasets\n",
    "lena = scipy.datasets.face()\n",
    "\n",
    "# Create an array with an additional alpha channel\n",
    "data = np.zeros((lena.shape[0], lena.shape[1], 4), dtype=np.uint8)\n",
    "data[:, :, :3] = lena\n",
    "data[:, :, 3] = 255  # Set alpha channel to 255 (fully opaque)\n",
    "\n",
    "# Create an image from the buffer\n",
    "img = Image.fromarray(data, 'RGBA')\n",
    "img.save('lena_frombuffer.png')\n",
    "\n",
    "# Modify the image: set the alpha channel to Lena's grayscale values\n",
    "data[:, :, 3] = np.mean(lena, axis=2).astype(np.uint8)  # Use the mean of RGB channels as the grayscale value\n",
    "img = Image.fromarray(data, 'RGBA')\n",
    "img.save('lena_modified.png')\n"
   ]
  },
  {
   "cell_type": "code",
   "execution_count": 14,
   "metadata": {},
   "outputs": [
    {
     "ename": "JVMNotFoundException",
     "evalue": "No JVM shared library file (libjli.dylib) found. Try setting up the JAVA_HOME environment variable properly.",
     "output_type": "error",
     "traceback": [
      "\u001b[0;31m---------------------------------------------------------------------------\u001b[0m",
      "\u001b[0;31mJVMNotFoundException\u001b[0m                      Traceback (most recent call last)",
      "Cell \u001b[0;32mIn[14], line 5\u001b[0m\n\u001b[1;32m      2\u001b[0m \u001b[38;5;28;01mimport\u001b[39;00m \u001b[38;5;21;01mnumpy\u001b[39;00m \u001b[38;5;28;01mas\u001b[39;00m \u001b[38;5;21;01mnp\u001b[39;00m\n\u001b[1;32m      4\u001b[0m \u001b[38;5;66;03m# 1. Start the JVM\u001b[39;00m\n\u001b[0;32m----> 5\u001b[0m jpype\u001b[38;5;241m.\u001b[39mstartJVM(jpype\u001b[38;5;241m.\u001b[39mgetDefaultJVMPath())\n\u001b[1;32m      7\u001b[0m \u001b[38;5;66;03m# 2. Print hello world\u001b[39;00m\n\u001b[1;32m      8\u001b[0m jpype\u001b[38;5;241m.\u001b[39mjava\u001b[38;5;241m.\u001b[39mlang\u001b[38;5;241m.\u001b[39mSystem\u001b[38;5;241m.\u001b[39mout\u001b[38;5;241m.\u001b[39mprintln(\u001b[38;5;124m\"\u001b[39m\u001b[38;5;124mhello world\u001b[39m\u001b[38;5;124m\"\u001b[39m)\n",
      "File \u001b[0;32m/opt/homebrew/anaconda3/lib/python3.11/site-packages/jpype/_jvmfinder.py:74\u001b[0m, in \u001b[0;36mgetDefaultJVMPath\u001b[0;34m()\u001b[0m\n\u001b[1;32m     72\u001b[0m \u001b[38;5;28;01melse\u001b[39;00m:\n\u001b[1;32m     73\u001b[0m     finder \u001b[38;5;241m=\u001b[39m LinuxJVMFinder()\n\u001b[0;32m---> 74\u001b[0m \u001b[38;5;28;01mreturn\u001b[39;00m finder\u001b[38;5;241m.\u001b[39mget_jvm_path()\n",
      "File \u001b[0;32m/opt/homebrew/anaconda3/lib/python3.11/site-packages/jpype/_jvmfinder.py:212\u001b[0m, in \u001b[0;36mJVMFinder.get_jvm_path\u001b[0;34m(self)\u001b[0m\n\u001b[1;32m    210\u001b[0m \u001b[38;5;28;01mif\u001b[39;00m jvm_notsupport_ext \u001b[38;5;129;01mis\u001b[39;00m \u001b[38;5;129;01mnot\u001b[39;00m \u001b[38;5;28;01mNone\u001b[39;00m:\n\u001b[1;32m    211\u001b[0m     \u001b[38;5;28;01mraise\u001b[39;00m jvm_notsupport_ext\n\u001b[0;32m--> 212\u001b[0m \u001b[38;5;28;01mraise\u001b[39;00m JVMNotFoundException(\u001b[38;5;124m\"\u001b[39m\u001b[38;5;124mNo JVM shared library file (\u001b[39m\u001b[38;5;132;01m{0}\u001b[39;00m\u001b[38;5;124m) \u001b[39m\u001b[38;5;124m\"\u001b[39m\n\u001b[1;32m    213\u001b[0m                            \u001b[38;5;124m\"\u001b[39m\u001b[38;5;124mfound. Try setting up the JAVA_HOME \u001b[39m\u001b[38;5;124m\"\u001b[39m\n\u001b[1;32m    214\u001b[0m                            \u001b[38;5;124m\"\u001b[39m\u001b[38;5;124menvironment variable properly.\u001b[39m\u001b[38;5;124m\"\u001b[39m\n\u001b[1;32m    215\u001b[0m                            \u001b[38;5;241m.\u001b[39mformat(\u001b[38;5;28mself\u001b[39m\u001b[38;5;241m.\u001b[39m_libfile))\n",
      "\u001b[0;31mJVMNotFoundException\u001b[0m: No JVM shared library file (libjli.dylib) found. Try setting up the JAVA_HOME environment variable properly."
     ]
    }
   ],
   "source": [
    "import jpype\n",
    "import numpy as np\n",
    "\n",
    "# 1. Start the JVM\n",
    "jpype.startJVM(jpype.getDefaultJVMPath())\n",
    "\n",
    "# 2. Print hello world\n",
    "jpype.java.lang.System.out.println(\"hello world\")\n",
    "\n",
    "# 3. Send a NumPy array\n",
    "values = np.arange(7)\n",
    "java_array = jpype.JArray(jpype.JDouble)(values.tolist())\n",
    "\n",
    "for item in java_array:\n",
    "    jpype.java.lang.System.out.println(item)\n",
    "\n",
    "# 4. Shutdown the JVM\n",
    "jpype.shutdownJVM()\n"
   ]
  },
  {
   "cell_type": "code",
   "execution_count": 16,
   "metadata": {},
   "outputs": [],
   "source": [
    "import numpy as np\n",
    "import scipy.io\n",
    "\n",
    "# Create a NumPy array\n",
    "a = np.arange(7)\n",
    "\n",
    "# Save the array to a MATLAB .mat file\n",
    "scipy.io.savemat(\"a.mat\", {\"array\": a})\n"
   ]
  },
  {
   "cell_type": "code",
   "execution_count": 18,
   "metadata": {},
   "outputs": [
    {
     "name": "stdout",
     "output_type": "stream",
     "text": [
      "Format: l\n",
      "Item size: 8\n",
      "Number of dimensions: 2\n",
      "Readonly: False\n",
      "Shape: (2, 2)\n",
      "Strides: (16, 8)\n",
      "Array from memoryview:\n",
      " [[1 2]\n",
      " [3 4]]\n",
      "Modified original array:\n",
      " [[9 2]\n",
      " [3 4]]\n",
      "Array from memoryview after modification:\n",
      " [[9 2]\n",
      " [3 4]]\n"
     ]
    }
   ],
   "source": [
    "import numpy as np\n",
    "\n",
    "# Create a NumPy array\n",
    "x = np.array([[1, 2], [3, 4]])\n",
    "\n",
    "# Create a memoryview of the NumPy array\n",
    "y = memoryview(x)\n",
    "\n",
    "# Print memoryview properties\n",
    "print(\"Format:\", y.format)\n",
    "print(\"Item size:\", y.itemsize)\n",
    "print(\"Number of dimensions:\", y.ndim)\n",
    "print(\"Readonly:\", y.readonly)\n",
    "print(\"Shape:\", y.shape)\n",
    "print(\"Strides:\", y.strides)\n",
    "\n",
    "# Convert memoryview back to a NumPy array\n",
    "z = np.asarray(y)\n",
    "print(\"Array from memoryview:\\n\", z)\n",
    "\n",
    "# Modify the original array\n",
    "x[0, 0] = 9\n",
    "print(\"Modified original array:\\n\", x)\n",
    "print(\"Array from memoryview after modification:\\n\", z)\n"
   ]
  },
  {
   "cell_type": "code",
   "execution_count": 20,
   "metadata": {},
   "outputs": [
    {
     "ename": "ModuleNotFoundError",
     "evalue": "No module named 'rpy2'",
     "output_type": "error",
     "traceback": [
      "\u001b[0;31m---------------------------------------------------------------------------\u001b[0m",
      "\u001b[0;31mModuleNotFoundError\u001b[0m                       Traceback (most recent call last)",
      "Cell \u001b[0;32mIn[20], line 1\u001b[0m\n\u001b[0;32m----> 1\u001b[0m \u001b[38;5;28;01mfrom\u001b[39;00m \u001b[38;5;21;01mrpy2\u001b[39;00m\u001b[38;5;21;01m.\u001b[39;00m\u001b[38;5;21;01mrobjects\u001b[39;00m\u001b[38;5;21;01m.\u001b[39;00m\u001b[38;5;21;01mpackages\u001b[39;00m \u001b[38;5;28;01mimport\u001b[39;00m importr\n\u001b[1;32m      2\u001b[0m \u001b[38;5;28;01mfrom\u001b[39;00m \u001b[38;5;21;01mrpy2\u001b[39;00m\u001b[38;5;21;01m.\u001b[39;00m\u001b[38;5;21;01mrobjects\u001b[39;00m \u001b[38;5;28;01mimport\u001b[39;00m pandas2ri\n\u001b[1;32m      3\u001b[0m \u001b[38;5;28;01mimport\u001b[39;00m \u001b[38;5;21;01mnumpy\u001b[39;00m \u001b[38;5;28;01mas\u001b[39;00m \u001b[38;5;21;01mnp\u001b[39;00m\n",
      "\u001b[0;31mModuleNotFoundError\u001b[0m: No module named 'rpy2'"
     ]
    }
   ],
   "source": [
    "from rpy2.robjects.packages import importr\n",
    "from rpy2.robjects import pandas2ri\n",
    "import numpy as np\n",
    "import matplotlib.pyplot as plt\n",
    "import pandas as pd\n",
    "\n",
    "# Activate the conversion of R objects to pandas DataFrame\n",
    "pandas2ri.activate()\n",
    "\n",
    "# Import the datasets package from R\n",
    "datasets = importr('datasets')\n",
    "\n",
    "# Fetch the 'mtcars' dataset from the 'datasets' package\n",
    "mtcars = datasets.__rdata__.fetch('mtcars')['mtcars']\n",
    "\n",
    "# Convert the R DataFrame to a pandas DataFrame\n",
    "mtcars_df = pandas2ri.rpy2py(mtcars)\n",
    "\n",
    "# Plot the 'wt' (weight) vs 'mpg' (miles per gallon)\n",
    "plt.figure(figsize=(10, 6))\n",
    "plt.title('R mtcars dataset')\n",
    "plt.xlabel('wt')\n",
    "plt.ylabel('mpg')\n",
    "plt.scatter(mtcars_df['wt'], mtcars_df['mpg'], c='blue', marker='o')\n",
    "plt.grid(True)\n",
    "plt.show()\n"
   ]
  },
  {
   "cell_type": "code",
   "execution_count": null,
   "metadata": {},
   "outputs": [],
   "source": []
  }
 ],
 "metadata": {
  "kernelspec": {
   "display_name": "Python 3 (ipykernel)",
   "language": "python",
   "name": "python3"
  },
  "language_info": {
   "codemirror_mode": {
    "name": "ipython",
    "version": 3
   },
   "file_extension": ".py",
   "mimetype": "text/x-python",
   "name": "python",
   "nbconvert_exporter": "python",
   "pygments_lexer": "ipython3",
   "version": "3.11.7"
  }
 },
 "nbformat": 4,
 "nbformat_minor": 4
}
