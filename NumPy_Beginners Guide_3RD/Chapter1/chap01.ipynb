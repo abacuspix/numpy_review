{
 "cells": [
  {
   "cell_type": "code",
   "execution_count": 10,
   "id": "187becd2-847d-411e-88ef-fff0dfe2757c",
   "metadata": {},
   "outputs": [
    {
     "name": "stdout",
     "output_type": "stream",
     "text": [
      "The last 2 elements of the sum [999950000799996, 999980000100000]\n",
      "PythonSum elapsed time in microseconds 27376\n",
      "The last 2 elements of the sum [999950000799996 999980000100000]\n",
      "NumPySum elapsed time in microseconds 1594\n"
     ]
    }
   ],
   "source": [
    "#!/usr/bin/env python\n",
    "\n",
    "from __future__ import print_function\n",
    "import sys\n",
    "from datetime import datetime\n",
    "import numpy as np\n",
    "\n",
    "\"\"\"\n",
    " Chapter 1 of NumPy Beginners Guide.\n",
    " This program demonstrates vector addition the Python way.\n",
    " Run from the command line as follows\n",
    "     \n",
    "  python vectorsum.py n\n",
    " \n",
    " where n is an integer that specifies the size of the vectors.\n",
    "\n",
    " The first vector to be added contains the squares of 0 up to n. \n",
    " The second vector contains the cubes of 0 up to n.\n",
    " The program prints the last 2 elements of the sum and the elapsed time.\n",
    "\"\"\"\n",
    "\n",
    "def numpysum(n):\n",
    "   a = np.arange(n) ** 2\n",
    "   b = np.arange(n) ** 3\n",
    "   c = a + b\n",
    "\n",
    "   return c\n",
    "\n",
    "def pythonsum(n):\n",
    "   a = list(range(n))\n",
    "   b = list(range(n))\n",
    "   c = []\n",
    "\n",
    "   for i in range(len(a)):\n",
    "       a[i] = i ** 2\n",
    "       b[i] = i ** 3\n",
    "       c.append(a[i] + b[i])\n",
    "\n",
    "   return c\n",
    "   \n",
    "\n",
    "size = int(100000)\n",
    "\n",
    "start = datetime.now()\n",
    "c = pythonsum(size)\n",
    "delta = datetime.now() - start\n",
    "print(\"The last 2 elements of the sum\", c[-2:])\n",
    "print(\"PythonSum elapsed time in microseconds\", delta.microseconds)\n",
    "\n",
    "start = datetime.now()\n",
    "c = numpysum(size)\n",
    "delta = datetime.now() - start\n",
    "print(\"The last 2 elements of the sum\", c[-2:])\n",
    "print(\"NumPySum elapsed time in microseconds\", delta.microseconds)"
   ]
  },
  {
   "cell_type": "code",
   "execution_count": null,
   "id": "c3ff5744-3927-47a0-b78d-e0272c792ead",
   "metadata": {},
   "outputs": [],
   "source": []
  }
 ],
 "metadata": {
  "kernelspec": {
   "display_name": "Python 3 (ipykernel)",
   "language": "python",
   "name": "python3"
  },
  "language_info": {
   "codemirror_mode": {
    "name": "ipython",
    "version": 3
   },
   "file_extension": ".py",
   "mimetype": "text/x-python",
   "name": "python",
   "nbconvert_exporter": "python",
   "pygments_lexer": "ipython3",
   "version": "3.11.7"
  }
 },
 "nbformat": 4,
 "nbformat_minor": 5
}
