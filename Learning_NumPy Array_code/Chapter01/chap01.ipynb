{
 "cells": [
  {
   "cell_type": "code",
   "execution_count": 15,
   "id": "d6736f04-79bb-4c01-8802-9f0be736e6d5",
   "metadata": {},
   "outputs": [
    {
     "name": "stdout",
     "output_type": "stream",
     "text": [
      "The last 2 elements of the sum: [999999500000079999996, 999999800000010000000]\n",
      "PythonSum elapsed time in microseconds: 5241\n",
      "The last 2 elements of the sum: [3875320019764212732 3875620019694212736]\n",
      "NumPySum elapsed time in microseconds: 101068\n"
     ]
    }
   ],
   "source": [
    "#!/usr/bin/env python\n",
    "\n",
    "import sys\n",
    "from datetime import datetime\n",
    "import numpy as np\n",
    "\n",
    "\"\"\"\n",
    " This program demonstrates vector addition the Python way.\n",
    " Run from the command line as follows\n",
    "     \n",
    "  python vectorsum.py n\n",
    " \n",
    " where n is an integer that specifies the size of the vectors.\n",
    "\n",
    " The first vector to be added contains the squares of 0 up to n. \n",
    " The second vector contains the cubes of 0 up to n.\n",
    " The program prints the last 2 elements of the sum and the elapsed time.\n",
    "\"\"\"\n",
    "\n",
    "def numpysum(n):\n",
    "    a = np.arange(n) ** 2\n",
    "    b = np.arange(n) ** 3\n",
    "    c = a + b\n",
    "    return c\n",
    "\n",
    "def pythonsum(n):\n",
    "    a = list(range(n))\n",
    "    b = list(range(n))\n",
    "    c = []\n",
    "\n",
    "    for i in range(len(a)):\n",
    "        a[i] = i ** 2\n",
    "        b[i] = i ** 3\n",
    "        c.append(a[i] + b[i])\n",
    "\n",
    "    return c\n",
    "\n",
    "if __name__ == \"__main__\":\n",
    "    #size = int(sys.argv[1])\n",
    "    size = 10000000\n",
    "    start = datetime.now()\n",
    "    c = pythonsum(size)\n",
    "    delta = datetime.now() - start\n",
    "    print(f\"The last 2 elements of the sum: {c[-2:]}\")\n",
    "    print(f\"PythonSum elapsed time in microseconds: {delta.microseconds}\")\n",
    "\n",
    "    start = datetime.now()\n",
    "    c = numpysum(size)\n",
    "    delta = datetime.now() - start\n",
    "    print(f\"The last 2 elements of the sum: {c[-2:]}\")\n",
    "    print(f\"NumPySum elapsed time in microseconds: {delta.microseconds}\")\n"
   ]
  },
  {
   "cell_type": "code",
   "execution_count": null,
   "id": "49623429-ca7c-4b68-baf6-05277bb09a65",
   "metadata": {},
   "outputs": [],
   "source": []
  }
 ],
 "metadata": {
  "kernelspec": {
   "display_name": "Python 3 (ipykernel)",
   "language": "python",
   "name": "python3"
  },
  "language_info": {
   "codemirror_mode": {
    "name": "ipython",
    "version": 3
   },
   "file_extension": ".py",
   "mimetype": "text/x-python",
   "name": "python",
   "nbconvert_exporter": "python",
   "pygments_lexer": "ipython3",
   "version": "3.11.7"
  }
 },
 "nbformat": 4,
 "nbformat_minor": 5
}
